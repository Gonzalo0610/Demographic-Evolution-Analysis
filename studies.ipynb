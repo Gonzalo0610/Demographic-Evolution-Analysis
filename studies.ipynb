{
 "cells": [
  {
   "cell_type": "code",
   "execution_count": 4,
   "metadata": {},
   "outputs": [],
   "source": [
    "import requests\n",
    "import datetime\n",
    "import pandas as pd"
   ]
  },
  {
   "cell_type": "code",
   "execution_count": 9,
   "metadata": {},
   "outputs": [
    {
     "ename": "FileNotFoundError",
     "evalue": "[Errno 2] No such file or directory: ''",
     "output_type": "error",
     "traceback": [
      "\u001b[1;31m---------------------------------------------------------------------------\u001b[0m",
      "\u001b[1;31mFileNotFoundError\u001b[0m                         Traceback (most recent call last)",
      "\u001b[1;32mUntitled-1.ipynb Cell 2\u001b[0m in \u001b[0;36m<cell line: 9>\u001b[1;34m()\u001b[0m\n\u001b[0;32m     <a href='vscode-notebook-cell:Untitled-1.ipynb?jupyter-notebook#W1sdW50aXRsZWQ%3D?line=14'>15</a>\u001b[0m respuesta \u001b[39m=\u001b[39m requests\u001b[39m.\u001b[39mget(url_solicitud)\n\u001b[0;32m     <a href='vscode-notebook-cell:Untitled-1.ipynb?jupyter-notebook#W1sdW50aXRsZWQ%3D?line=16'>17</a>\u001b[0m \u001b[39m# Procesar los datos recibidos y convertirlos a un DataFrame de pandas\u001b[39;00m\n\u001b[1;32m---> <a href='vscode-notebook-cell:Untitled-1.ipynb?jupyter-notebook#W1sdW50aXRsZWQ%3D?line=17'>18</a>\u001b[0m datos \u001b[39m=\u001b[39m pd\u001b[39m.\u001b[39;49mread_csv(respuesta\u001b[39m.\u001b[39;49mtext, sep\u001b[39m=\u001b[39;49m\u001b[39m'\u001b[39;49m\u001b[39m;\u001b[39;49m\u001b[39m'\u001b[39;49m)\n\u001b[0;32m     <a href='vscode-notebook-cell:Untitled-1.ipynb?jupyter-notebook#W1sdW50aXRsZWQ%3D?line=19'>20</a>\u001b[0m \u001b[39m# Agregar los datos de la comunidad actual al DataFrame de datos totales\u001b[39;00m\n\u001b[0;32m     <a href='vscode-notebook-cell:Untitled-1.ipynb?jupyter-notebook#W1sdW50aXRsZWQ%3D?line=20'>21</a>\u001b[0m datos[\u001b[39m'\u001b[39m\u001b[39mcomunidad\u001b[39m\u001b[39m'\u001b[39m] \u001b[39m=\u001b[39m comunidad\n",
      "File \u001b[1;32mc:\\Users\\gqsal\\miniconda3\\envs\\ironhack\\lib\\site-packages\\pandas\\util\\_decorators.py:211\u001b[0m, in \u001b[0;36mdeprecate_kwarg.<locals>._deprecate_kwarg.<locals>.wrapper\u001b[1;34m(*args, **kwargs)\u001b[0m\n\u001b[0;32m    209\u001b[0m     \u001b[39melse\u001b[39;00m:\n\u001b[0;32m    210\u001b[0m         kwargs[new_arg_name] \u001b[39m=\u001b[39m new_arg_value\n\u001b[1;32m--> 211\u001b[0m \u001b[39mreturn\u001b[39;00m func(\u001b[39m*\u001b[39margs, \u001b[39m*\u001b[39m\u001b[39m*\u001b[39mkwargs)\n",
      "File \u001b[1;32mc:\\Users\\gqsal\\miniconda3\\envs\\ironhack\\lib\\site-packages\\pandas\\util\\_decorators.py:331\u001b[0m, in \u001b[0;36mdeprecate_nonkeyword_arguments.<locals>.decorate.<locals>.wrapper\u001b[1;34m(*args, **kwargs)\u001b[0m\n\u001b[0;32m    325\u001b[0m \u001b[39mif\u001b[39;00m \u001b[39mlen\u001b[39m(args) \u001b[39m>\u001b[39m num_allow_args:\n\u001b[0;32m    326\u001b[0m     warnings\u001b[39m.\u001b[39mwarn(\n\u001b[0;32m    327\u001b[0m         msg\u001b[39m.\u001b[39mformat(arguments\u001b[39m=\u001b[39m_format_argument_list(allow_args)),\n\u001b[0;32m    328\u001b[0m         \u001b[39mFutureWarning\u001b[39;00m,\n\u001b[0;32m    329\u001b[0m         stacklevel\u001b[39m=\u001b[39mfind_stack_level(),\n\u001b[0;32m    330\u001b[0m     )\n\u001b[1;32m--> 331\u001b[0m \u001b[39mreturn\u001b[39;00m func(\u001b[39m*\u001b[39margs, \u001b[39m*\u001b[39m\u001b[39m*\u001b[39mkwargs)\n",
      "File \u001b[1;32mc:\\Users\\gqsal\\miniconda3\\envs\\ironhack\\lib\\site-packages\\pandas\\io\\parsers\\readers.py:950\u001b[0m, in \u001b[0;36mread_csv\u001b[1;34m(filepath_or_buffer, sep, delimiter, header, names, index_col, usecols, squeeze, prefix, mangle_dupe_cols, dtype, engine, converters, true_values, false_values, skipinitialspace, skiprows, skipfooter, nrows, na_values, keep_default_na, na_filter, verbose, skip_blank_lines, parse_dates, infer_datetime_format, keep_date_col, date_parser, dayfirst, cache_dates, iterator, chunksize, compression, thousands, decimal, lineterminator, quotechar, quoting, doublequote, escapechar, comment, encoding, encoding_errors, dialect, error_bad_lines, warn_bad_lines, on_bad_lines, delim_whitespace, low_memory, memory_map, float_precision, storage_options)\u001b[0m\n\u001b[0;32m    935\u001b[0m kwds_defaults \u001b[39m=\u001b[39m _refine_defaults_read(\n\u001b[0;32m    936\u001b[0m     dialect,\n\u001b[0;32m    937\u001b[0m     delimiter,\n\u001b[1;32m   (...)\u001b[0m\n\u001b[0;32m    946\u001b[0m     defaults\u001b[39m=\u001b[39m{\u001b[39m\"\u001b[39m\u001b[39mdelimiter\u001b[39m\u001b[39m\"\u001b[39m: \u001b[39m\"\u001b[39m\u001b[39m,\u001b[39m\u001b[39m\"\u001b[39m},\n\u001b[0;32m    947\u001b[0m )\n\u001b[0;32m    948\u001b[0m kwds\u001b[39m.\u001b[39mupdate(kwds_defaults)\n\u001b[1;32m--> 950\u001b[0m \u001b[39mreturn\u001b[39;00m _read(filepath_or_buffer, kwds)\n",
      "File \u001b[1;32mc:\\Users\\gqsal\\miniconda3\\envs\\ironhack\\lib\\site-packages\\pandas\\io\\parsers\\readers.py:605\u001b[0m, in \u001b[0;36m_read\u001b[1;34m(filepath_or_buffer, kwds)\u001b[0m\n\u001b[0;32m    602\u001b[0m _validate_names(kwds\u001b[39m.\u001b[39mget(\u001b[39m\"\u001b[39m\u001b[39mnames\u001b[39m\u001b[39m\"\u001b[39m, \u001b[39mNone\u001b[39;00m))\n\u001b[0;32m    604\u001b[0m \u001b[39m# Create the parser.\u001b[39;00m\n\u001b[1;32m--> 605\u001b[0m parser \u001b[39m=\u001b[39m TextFileReader(filepath_or_buffer, \u001b[39m*\u001b[39m\u001b[39m*\u001b[39mkwds)\n\u001b[0;32m    607\u001b[0m \u001b[39mif\u001b[39;00m chunksize \u001b[39mor\u001b[39;00m iterator:\n\u001b[0;32m    608\u001b[0m     \u001b[39mreturn\u001b[39;00m parser\n",
      "File \u001b[1;32mc:\\Users\\gqsal\\miniconda3\\envs\\ironhack\\lib\\site-packages\\pandas\\io\\parsers\\readers.py:1442\u001b[0m, in \u001b[0;36mTextFileReader.__init__\u001b[1;34m(self, f, engine, **kwds)\u001b[0m\n\u001b[0;32m   1439\u001b[0m     \u001b[39mself\u001b[39m\u001b[39m.\u001b[39moptions[\u001b[39m\"\u001b[39m\u001b[39mhas_index_names\u001b[39m\u001b[39m\"\u001b[39m] \u001b[39m=\u001b[39m kwds[\u001b[39m\"\u001b[39m\u001b[39mhas_index_names\u001b[39m\u001b[39m\"\u001b[39m]\n\u001b[0;32m   1441\u001b[0m \u001b[39mself\u001b[39m\u001b[39m.\u001b[39mhandles: IOHandles \u001b[39m|\u001b[39m \u001b[39mNone\u001b[39;00m \u001b[39m=\u001b[39m \u001b[39mNone\u001b[39;00m\n\u001b[1;32m-> 1442\u001b[0m \u001b[39mself\u001b[39m\u001b[39m.\u001b[39m_engine \u001b[39m=\u001b[39m \u001b[39mself\u001b[39;49m\u001b[39m.\u001b[39;49m_make_engine(f, \u001b[39mself\u001b[39;49m\u001b[39m.\u001b[39;49mengine)\n",
      "File \u001b[1;32mc:\\Users\\gqsal\\miniconda3\\envs\\ironhack\\lib\\site-packages\\pandas\\io\\parsers\\readers.py:1735\u001b[0m, in \u001b[0;36mTextFileReader._make_engine\u001b[1;34m(self, f, engine)\u001b[0m\n\u001b[0;32m   1733\u001b[0m     \u001b[39mif\u001b[39;00m \u001b[39m\"\u001b[39m\u001b[39mb\u001b[39m\u001b[39m\"\u001b[39m \u001b[39mnot\u001b[39;00m \u001b[39min\u001b[39;00m mode:\n\u001b[0;32m   1734\u001b[0m         mode \u001b[39m+\u001b[39m\u001b[39m=\u001b[39m \u001b[39m\"\u001b[39m\u001b[39mb\u001b[39m\u001b[39m\"\u001b[39m\n\u001b[1;32m-> 1735\u001b[0m \u001b[39mself\u001b[39m\u001b[39m.\u001b[39mhandles \u001b[39m=\u001b[39m get_handle(\n\u001b[0;32m   1736\u001b[0m     f,\n\u001b[0;32m   1737\u001b[0m     mode,\n\u001b[0;32m   1738\u001b[0m     encoding\u001b[39m=\u001b[39;49m\u001b[39mself\u001b[39;49m\u001b[39m.\u001b[39;49moptions\u001b[39m.\u001b[39;49mget(\u001b[39m\"\u001b[39;49m\u001b[39mencoding\u001b[39;49m\u001b[39m\"\u001b[39;49m, \u001b[39mNone\u001b[39;49;00m),\n\u001b[0;32m   1739\u001b[0m     compression\u001b[39m=\u001b[39;49m\u001b[39mself\u001b[39;49m\u001b[39m.\u001b[39;49moptions\u001b[39m.\u001b[39;49mget(\u001b[39m\"\u001b[39;49m\u001b[39mcompression\u001b[39;49m\u001b[39m\"\u001b[39;49m, \u001b[39mNone\u001b[39;49;00m),\n\u001b[0;32m   1740\u001b[0m     memory_map\u001b[39m=\u001b[39;49m\u001b[39mself\u001b[39;49m\u001b[39m.\u001b[39;49moptions\u001b[39m.\u001b[39;49mget(\u001b[39m\"\u001b[39;49m\u001b[39mmemory_map\u001b[39;49m\u001b[39m\"\u001b[39;49m, \u001b[39mFalse\u001b[39;49;00m),\n\u001b[0;32m   1741\u001b[0m     is_text\u001b[39m=\u001b[39;49mis_text,\n\u001b[0;32m   1742\u001b[0m     errors\u001b[39m=\u001b[39;49m\u001b[39mself\u001b[39;49m\u001b[39m.\u001b[39;49moptions\u001b[39m.\u001b[39;49mget(\u001b[39m\"\u001b[39;49m\u001b[39mencoding_errors\u001b[39;49m\u001b[39m\"\u001b[39;49m, \u001b[39m\"\u001b[39;49m\u001b[39mstrict\u001b[39;49m\u001b[39m\"\u001b[39;49m),\n\u001b[0;32m   1743\u001b[0m     storage_options\u001b[39m=\u001b[39;49m\u001b[39mself\u001b[39;49m\u001b[39m.\u001b[39;49moptions\u001b[39m.\u001b[39;49mget(\u001b[39m\"\u001b[39;49m\u001b[39mstorage_options\u001b[39;49m\u001b[39m\"\u001b[39;49m, \u001b[39mNone\u001b[39;49;00m),\n\u001b[0;32m   1744\u001b[0m )\n\u001b[0;32m   1745\u001b[0m \u001b[39massert\u001b[39;00m \u001b[39mself\u001b[39m\u001b[39m.\u001b[39mhandles \u001b[39mis\u001b[39;00m \u001b[39mnot\u001b[39;00m \u001b[39mNone\u001b[39;00m\n\u001b[0;32m   1746\u001b[0m f \u001b[39m=\u001b[39m \u001b[39mself\u001b[39m\u001b[39m.\u001b[39mhandles\u001b[39m.\u001b[39mhandle\n",
      "File \u001b[1;32mc:\\Users\\gqsal\\miniconda3\\envs\\ironhack\\lib\\site-packages\\pandas\\io\\common.py:856\u001b[0m, in \u001b[0;36mget_handle\u001b[1;34m(path_or_buf, mode, encoding, compression, memory_map, is_text, errors, storage_options)\u001b[0m\n\u001b[0;32m    851\u001b[0m \u001b[39melif\u001b[39;00m \u001b[39misinstance\u001b[39m(handle, \u001b[39mstr\u001b[39m):\n\u001b[0;32m    852\u001b[0m     \u001b[39m# Check whether the filename is to be opened in binary mode.\u001b[39;00m\n\u001b[0;32m    853\u001b[0m     \u001b[39m# Binary mode does not support 'encoding' and 'newline'.\u001b[39;00m\n\u001b[0;32m    854\u001b[0m     \u001b[39mif\u001b[39;00m ioargs\u001b[39m.\u001b[39mencoding \u001b[39mand\u001b[39;00m \u001b[39m\"\u001b[39m\u001b[39mb\u001b[39m\u001b[39m\"\u001b[39m \u001b[39mnot\u001b[39;00m \u001b[39min\u001b[39;00m ioargs\u001b[39m.\u001b[39mmode:\n\u001b[0;32m    855\u001b[0m         \u001b[39m# Encoding\u001b[39;00m\n\u001b[1;32m--> 856\u001b[0m         handle \u001b[39m=\u001b[39m \u001b[39mopen\u001b[39;49m(\n\u001b[0;32m    857\u001b[0m             handle,\n\u001b[0;32m    858\u001b[0m             ioargs\u001b[39m.\u001b[39;49mmode,\n\u001b[0;32m    859\u001b[0m             encoding\u001b[39m=\u001b[39;49mioargs\u001b[39m.\u001b[39;49mencoding,\n\u001b[0;32m    860\u001b[0m             errors\u001b[39m=\u001b[39;49merrors,\n\u001b[0;32m    861\u001b[0m             newline\u001b[39m=\u001b[39;49m\u001b[39m\"\u001b[39;49m\u001b[39m\"\u001b[39;49m,\n\u001b[0;32m    862\u001b[0m         )\n\u001b[0;32m    863\u001b[0m     \u001b[39melse\u001b[39;00m:\n\u001b[0;32m    864\u001b[0m         \u001b[39m# Binary mode\u001b[39;00m\n\u001b[0;32m    865\u001b[0m         handle \u001b[39m=\u001b[39m \u001b[39mopen\u001b[39m(handle, ioargs\u001b[39m.\u001b[39mmode)\n",
      "\u001b[1;31mFileNotFoundError\u001b[0m: [Errno 2] No such file or directory: ''"
     ]
    }
   ],
   "source": [
    "# Especificar los parámetros de la solicitud\n",
    "comunidades = '01'\n",
    "fecha_inicio = '200201'  # Año y mes de inicio (en este caso, enero de 2002)\n",
    "fecha_fin = '202112'  # Año y mes de fin (en este caso, diciembre de 2021)\n",
    "variables = 'P5017'  # Lista de variables separadas por comas\n",
    "\n",
    "# Construir la URL de la solicitud y hacer la solicitud HTTP para cada comunidad\n",
    "datos_totales = pd.DataFrame()\n",
    "for comunidad in comunidades:\n",
    "    # Construir la URL de la solicitud\n",
    "    url_base = 'https://servicios.ine.es/wstempus/js/ES/DATOS_SERIE/'\n",
    "    url_solicitud = f'{url_base}{variables}/{comunidad}/{fecha_inicio}/{fecha_fin}'\n",
    "\n",
    "    # Hacer la solicitud HTTP y recibir la respuesta\n",
    "    respuesta = requests.get(url_solicitud)\n",
    "\n",
    "    # Procesar los datos recibidos y convertirlos a un DataFrame de pandas\n",
    "    datos = pd.read_csv(respuesta.text, sep=';')\n",
    "\n",
    "    # Agregar los datos de la comunidad actual al DataFrame de datos totales\n",
    "    datos['comunidad'] = comunidad\n",
    "    datos_totales = pd.concat([datos_totales, datos], ignore_index=True)\n",
    "\n",
    "\n",
    "# Mostrar los primeros 10 registros de los datos totales\n",
    "print(datos_totales.head(10))"
   ]
  },
  {
   "cell_type": "code",
   "execution_count": 27,
   "metadata": {},
   "outputs": [
    {
     "data": {
      "text/plain": [
       "{'COD': 'EPA87',\n",
       " 'Nombre': 'Total Nacional. Ambos sexos. 16 y más años. Ocupados. Personas. ',\n",
       " 'FK_Unidad': 3,\n",
       " 'FK_Escala': 4,\n",
       " 'Notas': [{'texto': 'http://www.ine.es/dyngs/INEbase/es/operacion.htm?c=Estadistica_C&cid=1254736176918&menu=ultiDatos&idp=1254735976595#~#http://www.ine.es/consul/serie.do?s=EPA87&nult=100&TB_iframe=true&position=center&width=700&height=500&L=0&nocab=1',\n",
       "   'Fk_TipoNota': 6,\n",
       "   'textoTipo': None}],\n",
       " 'Data': [{'Fecha': 1009839600000,\n",
       "   'FK_TipoDato': 1,\n",
       "   'FK_Periodo': 19,\n",
       "   'Anyo': 2002,\n",
       "   'Valor': 16482.3,\n",
       "   'Secreto': False},\n",
       "  {'Fecha': 1017612000000,\n",
       "   'FK_TipoDato': 1,\n",
       "   'FK_Periodo': 20,\n",
       "   'Anyo': 2002,\n",
       "   'Valor': 16766.9,\n",
       "   'Secreto': False},\n",
       "  {'Fecha': 1025474400000,\n",
       "   'FK_TipoDato': 1,\n",
       "   'FK_Periodo': 21,\n",
       "   'Anyo': 2002,\n",
       "   'Valor': 16919.3,\n",
       "   'Secreto': False},\n",
       "  {'Fecha': 1033423200000,\n",
       "   'FK_TipoDato': 1,\n",
       "   'FK_Periodo': 22,\n",
       "   'Anyo': 2002,\n",
       "   'Valor': 16991.9,\n",
       "   'Secreto': False},\n",
       "  {'Fecha': 1041375600000,\n",
       "   'FK_TipoDato': 1,\n",
       "   'FK_Periodo': 19,\n",
       "   'Anyo': 2003,\n",
       "   'Valor': 17092.7,\n",
       "   'Secreto': False},\n",
       "  {'Fecha': 1049148000000,\n",
       "   'FK_TipoDato': 1,\n",
       "   'FK_Periodo': 20,\n",
       "   'Anyo': 2003,\n",
       "   'Valor': 17423.2,\n",
       "   'Secreto': False},\n",
       "  {'Fecha': 1057010400000,\n",
       "   'FK_TipoDato': 1,\n",
       "   'FK_Periodo': 21,\n",
       "   'Anyo': 2003,\n",
       "   'Valor': 17646.0,\n",
       "   'Secreto': False},\n",
       "  {'Fecha': 1064959200000,\n",
       "   'FK_TipoDato': 1,\n",
       "   'FK_Periodo': 22,\n",
       "   'Anyo': 2003,\n",
       "   'Valor': 17740.5,\n",
       "   'Secreto': False},\n",
       "  {'Fecha': 1072911600000,\n",
       "   'FK_TipoDato': 1,\n",
       "   'FK_Periodo': 19,\n",
       "   'Anyo': 2004,\n",
       "   'Valor': 17770.2,\n",
       "   'Secreto': False},\n",
       "  {'Fecha': 1080770400000,\n",
       "   'FK_TipoDato': 1,\n",
       "   'FK_Periodo': 20,\n",
       "   'Anyo': 2004,\n",
       "   'Valor': 18018.9,\n",
       "   'Secreto': False},\n",
       "  {'Fecha': 1088632800000,\n",
       "   'FK_TipoDato': 1,\n",
       "   'FK_Periodo': 21,\n",
       "   'Anyo': 2004,\n",
       "   'Valor': 18289.1,\n",
       "   'Secreto': False},\n",
       "  {'Fecha': 1096581600000,\n",
       "   'FK_TipoDato': 1,\n",
       "   'FK_Periodo': 22,\n",
       "   'Anyo': 2004,\n",
       "   'Valor': 18490.8,\n",
       "   'Secreto': False},\n",
       "  {'Fecha': 1104534000000,\n",
       "   'FK_TipoDato': 1,\n",
       "   'FK_Periodo': 19,\n",
       "   'Anyo': 2005,\n",
       "   'Valor': 18736.1,\n",
       "   'Secreto': False},\n",
       "  {'Fecha': 1112306400000,\n",
       "   'FK_TipoDato': 1,\n",
       "   'FK_Periodo': 20,\n",
       "   'Anyo': 2005,\n",
       "   'Valor': 19160.6,\n",
       "   'Secreto': False},\n",
       "  {'Fecha': 1120168800000,\n",
       "   'FK_TipoDato': 1,\n",
       "   'FK_Periodo': 21,\n",
       "   'Anyo': 2005,\n",
       "   'Valor': 19422.1,\n",
       "   'Secreto': False},\n",
       "  {'Fecha': 1128117600000,\n",
       "   'FK_TipoDato': 1,\n",
       "   'FK_Periodo': 22,\n",
       "   'Anyo': 2005,\n",
       "   'Valor': 19509.2,\n",
       "   'Secreto': False},\n",
       "  {'Fecha': 1136070000000,\n",
       "   'FK_TipoDato': 1,\n",
       "   'FK_Periodo': 19,\n",
       "   'Anyo': 2006,\n",
       "   'Valor': 19578.4,\n",
       "   'Secreto': False},\n",
       "  {'Fecha': 1143842400000,\n",
       "   'FK_TipoDato': 1,\n",
       "   'FK_Periodo': 20,\n",
       "   'Anyo': 2006,\n",
       "   'Valor': 19891.6,\n",
       "   'Secreto': False},\n",
       "  {'Fecha': 1151704800000,\n",
       "   'FK_TipoDato': 1,\n",
       "   'FK_Periodo': 21,\n",
       "   'Anyo': 2006,\n",
       "   'Valor': 20091.0,\n",
       "   'Secreto': False},\n",
       "  {'Fecha': 1159653600000,\n",
       "   'FK_TipoDato': 1,\n",
       "   'FK_Periodo': 22,\n",
       "   'Anyo': 2006,\n",
       "   'Valor': 20195.4,\n",
       "   'Secreto': False},\n",
       "  {'Fecha': 1167606000000,\n",
       "   'FK_TipoDato': 1,\n",
       "   'FK_Periodo': 19,\n",
       "   'Anyo': 2007,\n",
       "   'Valor': 20267.5,\n",
       "   'Secreto': False},\n",
       "  {'Fecha': 1175378400000,\n",
       "   'FK_TipoDato': 1,\n",
       "   'FK_Periodo': 20,\n",
       "   'Anyo': 2007,\n",
       "   'Valor': 20580.9,\n",
       "   'Secreto': False},\n",
       "  {'Fecha': 1183240800000,\n",
       "   'FK_TipoDato': 1,\n",
       "   'FK_Periodo': 21,\n",
       "   'Anyo': 2007,\n",
       "   'Valor': 20753.4,\n",
       "   'Secreto': False},\n",
       "  {'Fecha': 1191189600000,\n",
       "   'FK_TipoDato': 1,\n",
       "   'FK_Periodo': 22,\n",
       "   'Anyo': 2007,\n",
       "   'Valor': 20717.9,\n",
       "   'Secreto': False},\n",
       "  {'Fecha': 1199142000000,\n",
       "   'FK_TipoDato': 1,\n",
       "   'FK_Periodo': 19,\n",
       "   'Anyo': 2008,\n",
       "   'Valor': 20620.0,\n",
       "   'Secreto': False},\n",
       "  {'Fecha': 1207000800000,\n",
       "   'FK_TipoDato': 1,\n",
       "   'FK_Periodo': 20,\n",
       "   'Anyo': 2008,\n",
       "   'Valor': 20646.9,\n",
       "   'Secreto': False},\n",
       "  {'Fecha': 1214863200000,\n",
       "   'FK_TipoDato': 1,\n",
       "   'FK_Periodo': 21,\n",
       "   'Anyo': 2008,\n",
       "   'Valor': 20556.4,\n",
       "   'Secreto': False},\n",
       "  {'Fecha': 1222812000000,\n",
       "   'FK_TipoDato': 1,\n",
       "   'FK_Periodo': 22,\n",
       "   'Anyo': 2008,\n",
       "   'Valor': 20055.3,\n",
       "   'Secreto': False},\n",
       "  {'Fecha': 1230764400000,\n",
       "   'FK_TipoDato': 1,\n",
       "   'FK_Periodo': 19,\n",
       "   'Anyo': 2009,\n",
       "   'Valor': 19284.4,\n",
       "   'Secreto': False},\n",
       "  {'Fecha': 1238536800000,\n",
       "   'FK_TipoDato': 1,\n",
       "   'FK_Periodo': 20,\n",
       "   'Anyo': 2009,\n",
       "   'Valor': 19154.2,\n",
       "   'Secreto': False},\n",
       "  {'Fecha': 1246399200000,\n",
       "   'FK_TipoDato': 1,\n",
       "   'FK_Periodo': 21,\n",
       "   'Anyo': 2009,\n",
       "   'Valor': 19098.4,\n",
       "   'Secreto': False},\n",
       "  {'Fecha': 1254348000000,\n",
       "   'FK_TipoDato': 1,\n",
       "   'FK_Periodo': 22,\n",
       "   'Anyo': 2009,\n",
       "   'Valor': 18890.4,\n",
       "   'Secreto': False},\n",
       "  {'Fecha': 1262300400000,\n",
       "   'FK_TipoDato': 1,\n",
       "   'FK_Periodo': 19,\n",
       "   'Anyo': 2010,\n",
       "   'Valor': 18652.9,\n",
       "   'Secreto': False},\n",
       "  {'Fecha': 1270072800000,\n",
       "   'FK_TipoDato': 1,\n",
       "   'FK_Periodo': 20,\n",
       "   'Anyo': 2010,\n",
       "   'Valor': 18751.1,\n",
       "   'Secreto': False},\n",
       "  {'Fecha': 1277935200000,\n",
       "   'FK_TipoDato': 1,\n",
       "   'FK_Periodo': 21,\n",
       "   'Anyo': 2010,\n",
       "   'Valor': 18819.0,\n",
       "   'Secreto': False},\n",
       "  {'Fecha': 1285884000000,\n",
       "   'FK_TipoDato': 1,\n",
       "   'FK_Periodo': 22,\n",
       "   'Anyo': 2010,\n",
       "   'Valor': 18674.9,\n",
       "   'Secreto': False},\n",
       "  {'Fecha': 1293836400000,\n",
       "   'FK_TipoDato': 1,\n",
       "   'FK_Periodo': 19,\n",
       "   'Anyo': 2011,\n",
       "   'Valor': 18426.2,\n",
       "   'Secreto': False},\n",
       "  {'Fecha': 1301608800000,\n",
       "   'FK_TipoDato': 1,\n",
       "   'FK_Periodo': 20,\n",
       "   'Anyo': 2011,\n",
       "   'Valor': 18622.0,\n",
       "   'Secreto': False},\n",
       "  {'Fecha': 1309471200000,\n",
       "   'FK_TipoDato': 1,\n",
       "   'FK_Periodo': 21,\n",
       "   'Anyo': 2011,\n",
       "   'Valor': 18484.5,\n",
       "   'Secreto': False},\n",
       "  {'Fecha': 1317420000000,\n",
       "   'FK_TipoDato': 1,\n",
       "   'FK_Periodo': 22,\n",
       "   'Anyo': 2011,\n",
       "   'Valor': 18153.0,\n",
       "   'Secreto': False},\n",
       "  {'Fecha': 1325372400000,\n",
       "   'FK_TipoDato': 1,\n",
       "   'FK_Periodo': 19,\n",
       "   'Anyo': 2012,\n",
       "   'Valor': 17765.1,\n",
       "   'Secreto': False},\n",
       "  {'Fecha': 1333231200000,\n",
       "   'FK_TipoDato': 1,\n",
       "   'FK_Periodo': 20,\n",
       "   'Anyo': 2012,\n",
       "   'Valor': 17758.5,\n",
       "   'Secreto': False},\n",
       "  {'Fecha': 1341093600000,\n",
       "   'FK_TipoDato': 1,\n",
       "   'FK_Periodo': 21,\n",
       "   'Anyo': 2012,\n",
       "   'Valor': 17667.7,\n",
       "   'Secreto': False},\n",
       "  {'Fecha': 1349042400000,\n",
       "   'FK_TipoDato': 1,\n",
       "   'FK_Periodo': 22,\n",
       "   'Anyo': 2012,\n",
       "   'Valor': 17339.4,\n",
       "   'Secreto': False},\n",
       "  {'Fecha': 1356994800000,\n",
       "   'FK_TipoDato': 1,\n",
       "   'FK_Periodo': 19,\n",
       "   'Anyo': 2013,\n",
       "   'Valor': 17030.2,\n",
       "   'Secreto': False},\n",
       "  {'Fecha': 1364767200000,\n",
       "   'FK_TipoDato': 1,\n",
       "   'FK_Periodo': 20,\n",
       "   'Anyo': 2013,\n",
       "   'Valor': 17160.6,\n",
       "   'Secreto': False},\n",
       "  {'Fecha': 1372629600000,\n",
       "   'FK_TipoDato': 1,\n",
       "   'FK_Periodo': 21,\n",
       "   'Anyo': 2013,\n",
       "   'Valor': 17230.0,\n",
       "   'Secreto': False},\n",
       "  {'Fecha': 1380578400000,\n",
       "   'FK_TipoDato': 1,\n",
       "   'FK_Periodo': 22,\n",
       "   'Anyo': 2013,\n",
       "   'Valor': 17135.2,\n",
       "   'Secreto': False},\n",
       "  {'Fecha': 1388530800000,\n",
       "   'FK_TipoDato': 1,\n",
       "   'FK_Periodo': 19,\n",
       "   'Anyo': 2014,\n",
       "   'Valor': 16950.6,\n",
       "   'Secreto': False},\n",
       "  {'Fecha': 1396303200000,\n",
       "   'FK_TipoDato': 1,\n",
       "   'FK_Periodo': 20,\n",
       "   'Anyo': 2014,\n",
       "   'Valor': 17353.0,\n",
       "   'Secreto': False},\n",
       "  {'Fecha': 1404165600000,\n",
       "   'FK_TipoDato': 1,\n",
       "   'FK_Periodo': 21,\n",
       "   'Anyo': 2014,\n",
       "   'Valor': 17504.0,\n",
       "   'Secreto': False},\n",
       "  {'Fecha': 1412114400000,\n",
       "   'FK_TipoDato': 1,\n",
       "   'FK_Periodo': 22,\n",
       "   'Anyo': 2014,\n",
       "   'Valor': 17569.1,\n",
       "   'Secreto': False},\n",
       "  {'Fecha': 1420066800000,\n",
       "   'FK_TipoDato': 1,\n",
       "   'FK_Periodo': 19,\n",
       "   'Anyo': 2015,\n",
       "   'Valor': 17454.8,\n",
       "   'Secreto': False},\n",
       "  {'Fecha': 1427839200000,\n",
       "   'FK_TipoDato': 1,\n",
       "   'FK_Periodo': 20,\n",
       "   'Anyo': 2015,\n",
       "   'Valor': 17866.5,\n",
       "   'Secreto': False},\n",
       "  {'Fecha': 1435701600000,\n",
       "   'FK_TipoDato': 1,\n",
       "   'FK_Periodo': 21,\n",
       "   'Anyo': 2015,\n",
       "   'Valor': 18048.7,\n",
       "   'Secreto': False},\n",
       "  {'Fecha': 1443650400000,\n",
       "   'FK_TipoDato': 1,\n",
       "   'FK_Periodo': 22,\n",
       "   'Anyo': 2015,\n",
       "   'Valor': 18094.2,\n",
       "   'Secreto': False},\n",
       "  {'Fecha': 1451602800000,\n",
       "   'FK_TipoDato': 1,\n",
       "   'FK_Periodo': 19,\n",
       "   'Anyo': 2016,\n",
       "   'Valor': 18029.6,\n",
       "   'Secreto': False},\n",
       "  {'Fecha': 1459461600000,\n",
       "   'FK_TipoDato': 1,\n",
       "   'FK_Periodo': 20,\n",
       "   'Anyo': 2016,\n",
       "   'Valor': 18301.0,\n",
       "   'Secreto': False},\n",
       "  {'Fecha': 1467324000000,\n",
       "   'FK_TipoDato': 1,\n",
       "   'FK_Periodo': 21,\n",
       "   'Anyo': 2016,\n",
       "   'Valor': 18527.5,\n",
       "   'Secreto': False},\n",
       "  {'Fecha': 1475272800000,\n",
       "   'FK_TipoDato': 1,\n",
       "   'FK_Periodo': 22,\n",
       "   'Anyo': 2016,\n",
       "   'Valor': 18508.1,\n",
       "   'Secreto': False},\n",
       "  {'Fecha': 1483225200000,\n",
       "   'FK_TipoDato': 1,\n",
       "   'FK_Periodo': 19,\n",
       "   'Anyo': 2017,\n",
       "   'Valor': 18438.3,\n",
       "   'Secreto': False},\n",
       "  {'Fecha': 1490997600000,\n",
       "   'FK_TipoDato': 1,\n",
       "   'FK_Periodo': 20,\n",
       "   'Anyo': 2017,\n",
       "   'Valor': 18813.3,\n",
       "   'Secreto': False},\n",
       "  {'Fecha': 1498860000000,\n",
       "   'FK_TipoDato': 1,\n",
       "   'FK_Periodo': 21,\n",
       "   'Anyo': 2017,\n",
       "   'Valor': 19049.2,\n",
       "   'Secreto': False},\n",
       "  {'Fecha': 1506808800000,\n",
       "   'FK_TipoDato': 1,\n",
       "   'FK_Periodo': 22,\n",
       "   'Anyo': 2017,\n",
       "   'Valor': 18998.4,\n",
       "   'Secreto': False},\n",
       "  {'Fecha': 1514761200000,\n",
       "   'FK_TipoDato': 1,\n",
       "   'FK_Periodo': 19,\n",
       "   'Anyo': 2018,\n",
       "   'Valor': 18874.2,\n",
       "   'Secreto': False},\n",
       "  {'Fecha': 1522533600000,\n",
       "   'FK_TipoDato': 1,\n",
       "   'FK_Periodo': 20,\n",
       "   'Anyo': 2018,\n",
       "   'Valor': 19344.1,\n",
       "   'Secreto': False},\n",
       "  {'Fecha': 1530396000000,\n",
       "   'FK_TipoDato': 1,\n",
       "   'FK_Periodo': 21,\n",
       "   'Anyo': 2018,\n",
       "   'Valor': 19528.0,\n",
       "   'Secreto': False},\n",
       "  {'Fecha': 1538344800000,\n",
       "   'FK_TipoDato': 1,\n",
       "   'FK_Periodo': 22,\n",
       "   'Anyo': 2018,\n",
       "   'Valor': 19564.6,\n",
       "   'Secreto': False},\n",
       "  {'Fecha': 1546297200000,\n",
       "   'FK_TipoDato': 1,\n",
       "   'FK_Periodo': 19,\n",
       "   'Anyo': 2019,\n",
       "   'Valor': 19471.1,\n",
       "   'Secreto': False},\n",
       "  {'Fecha': 1554069600000,\n",
       "   'FK_TipoDato': 1,\n",
       "   'FK_Periodo': 20,\n",
       "   'Anyo': 2019,\n",
       "   'Valor': 19804.9,\n",
       "   'Secreto': False},\n",
       "  {'Fecha': 1561932000000,\n",
       "   'FK_TipoDato': 1,\n",
       "   'FK_Periodo': 21,\n",
       "   'Anyo': 2019,\n",
       "   'Valor': 19874.3,\n",
       "   'Secreto': False},\n",
       "  {'Fecha': 1569880800000,\n",
       "   'FK_TipoDato': 1,\n",
       "   'FK_Periodo': 22,\n",
       "   'Anyo': 2019,\n",
       "   'Valor': 19966.9,\n",
       "   'Secreto': False},\n",
       "  {'Fecha': 1577833200000,\n",
       "   'FK_TipoDato': 1,\n",
       "   'FK_Periodo': 19,\n",
       "   'Anyo': 2020,\n",
       "   'Valor': 19681.3,\n",
       "   'Secreto': False},\n",
       "  {'Fecha': 1585692000000,\n",
       "   'FK_TipoDato': 1,\n",
       "   'FK_Periodo': 20,\n",
       "   'Anyo': 2020,\n",
       "   'Valor': 18607.2,\n",
       "   'Secreto': False},\n",
       "  {'Fecha': 1593554400000,\n",
       "   'FK_TipoDato': 1,\n",
       "   'FK_Periodo': 21,\n",
       "   'Anyo': 2020,\n",
       "   'Valor': 19176.9,\n",
       "   'Secreto': False},\n",
       "  {'Fecha': 1601503200000,\n",
       "   'FK_TipoDato': 1,\n",
       "   'FK_Periodo': 22,\n",
       "   'Anyo': 2020,\n",
       "   'Valor': 19344.3,\n",
       "   'Secreto': False},\n",
       "  {'Fecha': 1609455600000,\n",
       "   'FK_TipoDato': 1,\n",
       "   'FK_Periodo': 19,\n",
       "   'Anyo': 2021,\n",
       "   'Valor': 19206.8,\n",
       "   'Secreto': False},\n",
       "  {'Fecha': 1617228000000,\n",
       "   'FK_TipoDato': 1,\n",
       "   'FK_Periodo': 20,\n",
       "   'Anyo': 2021,\n",
       "   'Valor': 19671.7,\n",
       "   'Secreto': False},\n",
       "  {'Fecha': 1625090400000,\n",
       "   'FK_TipoDato': 1,\n",
       "   'FK_Periodo': 21,\n",
       "   'Anyo': 2021,\n",
       "   'Valor': 20031.0,\n",
       "   'Secreto': False},\n",
       "  {'Fecha': 1633039200000,\n",
       "   'FK_TipoDato': 1,\n",
       "   'FK_Periodo': 22,\n",
       "   'Anyo': 2021,\n",
       "   'Valor': 20184.9,\n",
       "   'Secreto': False},\n",
       "  {'Fecha': 1640991600000,\n",
       "   'FK_TipoDato': 1,\n",
       "   'FK_Periodo': 19,\n",
       "   'Anyo': 2022,\n",
       "   'Valor': 20084.7,\n",
       "   'Secreto': False},\n",
       "  {'Fecha': 1648764000000,\n",
       "   'FK_TipoDato': 1,\n",
       "   'FK_Periodo': 20,\n",
       "   'Anyo': 2022,\n",
       "   'Valor': 20468.0,\n",
       "   'Secreto': False},\n",
       "  {'Fecha': 1656626400000,\n",
       "   'FK_TipoDato': 1,\n",
       "   'FK_Periodo': 21,\n",
       "   'Anyo': 2022,\n",
       "   'Valor': 20545.7,\n",
       "   'Secreto': False},\n",
       "  {'Fecha': 1664575200000,\n",
       "   'FK_TipoDato': 1,\n",
       "   'FK_Periodo': 22,\n",
       "   'Anyo': 2022,\n",
       "   'Valor': 20463.9,\n",
       "   'Secreto': False}]}"
      ]
     },
     "execution_count": 27,
     "metadata": {},
     "output_type": "execute_result"
    }
   ],
   "source": [
    "url_plantilla = 'http://servicios.ine.es/wstempus/js/ES/DATOS_SERIE/{codigo}?nult={num_datos}'\n",
    "codigo = \"EPA87\"\n",
    "num_datos = 300\n",
    "\n",
    "url = url_plantilla.format(codigo=codigo, num_datos=num_datos)\n",
    "respuesta = requests.get(url)\n",
    "datos = respuesta.json()\n",
    "\n",
    "datos"
   ]
  },
  {
   "cell_type": "code",
   "execution_count": 5,
   "metadata": {},
   "outputs": [],
   "source": [
    "edad=pd.read_csv(\"Edad.csv\", sep=';')"
   ]
  },
  {
   "cell_type": "code",
   "execution_count": 6,
   "metadata": {},
   "outputs": [
    {
     "data": {
      "text/html": [
       "<div>\n",
       "<style scoped>\n",
       "    .dataframe tbody tr th:only-of-type {\n",
       "        vertical-align: middle;\n",
       "    }\n",
       "\n",
       "    .dataframe tbody tr th {\n",
       "        vertical-align: top;\n",
       "    }\n",
       "\n",
       "    .dataframe thead th {\n",
       "        text-align: right;\n",
       "    }\n",
       "</style>\n",
       "<table border=\"1\" class=\"dataframe\">\n",
       "  <thead>\n",
       "    <tr style=\"text-align: right;\">\n",
       "      <th></th>\n",
       "      <th>Comunidades y Ciudades Autónomas</th>\n",
       "      <th>Sexo</th>\n",
       "      <th>Periodo</th>\n",
       "      <th>Total</th>\n",
       "    </tr>\n",
       "  </thead>\n",
       "  <tbody>\n",
       "    <tr>\n",
       "      <th>0</th>\n",
       "      <td>Total Nacional</td>\n",
       "      <td>Ambos sexos</td>\n",
       "      <td>2022</td>\n",
       "      <td>44,07</td>\n",
       "    </tr>\n",
       "    <tr>\n",
       "      <th>1</th>\n",
       "      <td>Total Nacional</td>\n",
       "      <td>Ambos sexos</td>\n",
       "      <td>2021</td>\n",
       "      <td>43,8</td>\n",
       "    </tr>\n",
       "    <tr>\n",
       "      <th>2</th>\n",
       "      <td>Total Nacional</td>\n",
       "      <td>Ambos sexos</td>\n",
       "      <td>2020</td>\n",
       "      <td>43,58</td>\n",
       "    </tr>\n",
       "    <tr>\n",
       "      <th>3</th>\n",
       "      <td>Total Nacional</td>\n",
       "      <td>Ambos sexos</td>\n",
       "      <td>2019</td>\n",
       "      <td>43,38</td>\n",
       "    </tr>\n",
       "    <tr>\n",
       "      <th>4</th>\n",
       "      <td>Total Nacional</td>\n",
       "      <td>Ambos sexos</td>\n",
       "      <td>2018</td>\n",
       "      <td>43,18</td>\n",
       "    </tr>\n",
       "  </tbody>\n",
       "</table>\n",
       "</div>"
      ],
      "text/plain": [
       "  Comunidades y Ciudades Autónomas         Sexo  Periodo  Total\n",
       "0                   Total Nacional  Ambos sexos     2022  44,07\n",
       "1                   Total Nacional  Ambos sexos     2021   43,8\n",
       "2                   Total Nacional  Ambos sexos     2020  43,58\n",
       "3                   Total Nacional  Ambos sexos     2019  43,38\n",
       "4                   Total Nacional  Ambos sexos     2018  43,18"
      ]
     },
     "execution_count": 6,
     "metadata": {},
     "output_type": "execute_result"
    }
   ],
   "source": [
    "edad.head()"
   ]
  },
  {
   "cell_type": "code",
   "execution_count": 7,
   "metadata": {},
   "outputs": [
    {
     "data": {
      "text/plain": [
       "array([2022, 2021, 2020, 2019, 2018, 2017, 2016, 2015, 2014, 2013, 2012,\n",
       "       2011, 2010, 2009, 2008, 2007, 2006, 2005, 2004, 2003, 2002, 2001,\n",
       "       2000, 1999, 1998, 1997, 1996, 1995, 1994, 1993, 1992, 1991, 1990,\n",
       "       1989, 1988, 1987, 1986, 1985, 1984, 1983, 1982, 1981, 1980, 1979,\n",
       "       1978, 1977, 1976, 1975], dtype=int64)"
      ]
     },
     "execution_count": 7,
     "metadata": {},
     "output_type": "execute_result"
    }
   ],
   "source": [
    "edad.Periodo.unique()"
   ]
  },
  {
   "cell_type": "code",
   "execution_count": 8,
   "metadata": {},
   "outputs": [
    {
     "data": {
      "text/plain": [
       "Index(['Comunidades y Ciudades Autónomas', 'Sexo', 'Periodo', 'Total'], dtype='object')"
      ]
     },
     "execution_count": 8,
     "metadata": {},
     "output_type": "execute_result"
    }
   ],
   "source": [
    "edad.columns"
   ]
  },
  {
   "cell_type": "code",
   "execution_count": 9,
   "metadata": {},
   "outputs": [
    {
     "data": {
      "text/plain": [
       "array(['Total Nacional', '01 Andalucía', '02 Aragón',\n",
       "       '03 Asturias, Principado de', '04 Balears, Illes', '05 Canarias',\n",
       "       '06 Cantabria', '07 Castilla y León', '08 Castilla - La Mancha',\n",
       "       '09 Cataluña', '10 Comunitat Valenciana', '11 Extremadura',\n",
       "       '12 Galicia', '13 Madrid, Comunidad de', '14 Murcia, Región de',\n",
       "       '15 Navarra, Comunidad Foral de', '16 País Vasco', '17 Rioja, La',\n",
       "       '18 Ceuta', '19 Melilla'], dtype=object)"
      ]
     },
     "execution_count": 9,
     "metadata": {},
     "output_type": "execute_result"
    }
   ],
   "source": [
    "edad['Comunidades y Ciudades Autónomas'].unique()"
   ]
  },
  {
   "cell_type": "code",
   "execution_count": 10,
   "metadata": {},
   "outputs": [],
   "source": [
    "married=pd.read_csv(\"Marriage.csv\", sep=';')"
   ]
  },
  {
   "cell_type": "code",
   "execution_count": 11,
   "metadata": {},
   "outputs": [
    {
     "data": {
      "text/plain": [
       "Index(['Comunidades y Ciudades Autónomas', 'Periodo', 'Total'], dtype='object')"
      ]
     },
     "execution_count": 11,
     "metadata": {},
     "output_type": "execute_result"
    }
   ],
   "source": [
    "married.columns"
   ]
  },
  {
   "cell_type": "code",
   "execution_count": 12,
   "metadata": {},
   "outputs": [
    {
     "data": {
      "text/plain": [
       "0        2021M12\n",
       "1        2021M11\n",
       "2        2021M10\n",
       "3        2021M09\n",
       "4        2021M08\n",
       "          ...   \n",
       "11839    1975M05\n",
       "11840    1975M04\n",
       "11841    1975M03\n",
       "11842    1975M02\n",
       "11843    1975M01\n",
       "Name: Periodo, Length: 11844, dtype: object"
      ]
     },
     "execution_count": 12,
     "metadata": {},
     "output_type": "execute_result"
    }
   ],
   "source": [
    "married.Periodo"
   ]
  },
  {
   "cell_type": "code",
   "execution_count": 13,
   "metadata": {},
   "outputs": [
    {
     "data": {
      "text/plain": [
       "array(['Total', '01 Andalucía', '02 Aragón', '03 Asturias, Principado de',\n",
       "       '04 Balears, Illes', '05 Canarias', '06 Cantabria',\n",
       "       '07 Castilla y León', '08 Castilla - La Mancha', '09 Cataluña',\n",
       "       '10 Comunitat Valenciana', '11 Extremadura', '12 Galicia',\n",
       "       '13 Madrid, Comunidad de', '14 Murcia, Región de',\n",
       "       '15 Navarra, Comunidad Foral de', '16 País Vasco', '17 Rioja, La',\n",
       "       '18 Ceuta', '19 Melilla', 'No residente'], dtype=object)"
      ]
     },
     "execution_count": 13,
     "metadata": {},
     "output_type": "execute_result"
    }
   ],
   "source": [
    "married['Comunidades y Ciudades Autónomas'].unique()"
   ]
  },
  {
   "cell_type": "code",
   "execution_count": 14,
   "metadata": {},
   "outputs": [],
   "source": [
    "growth=pd.read_csv(\"PopGrowth.csv\", sep=';')"
   ]
  },
  {
   "cell_type": "code",
   "execution_count": 15,
   "metadata": {},
   "outputs": [
    {
     "data": {
      "text/plain": [
       "Index(['Comunidades y Ciudades Autónomas', 'Periodo', 'Total'], dtype='object')"
      ]
     },
     "execution_count": 15,
     "metadata": {},
     "output_type": "execute_result"
    }
   ],
   "source": [
    "growth.columns"
   ]
  },
  {
   "cell_type": "code",
   "execution_count": 16,
   "metadata": {},
   "outputs": [
    {
     "data": {
      "text/plain": [
       "0      2021\n",
       "1      2020\n",
       "2      2019\n",
       "3      2018\n",
       "4      2017\n",
       "       ... \n",
       "935    1979\n",
       "936    1978\n",
       "937    1977\n",
       "938    1976\n",
       "939    1975\n",
       "Name: Periodo, Length: 940, dtype: int64"
      ]
     },
     "execution_count": 16,
     "metadata": {},
     "output_type": "execute_result"
    }
   ],
   "source": [
    "growth.Periodo"
   ]
  },
  {
   "cell_type": "code",
   "execution_count": 17,
   "metadata": {},
   "outputs": [],
   "source": [
    "born=pd.read_csv(\"NatalityRate.csv\", sep=';')"
   ]
  },
  {
   "cell_type": "code",
   "execution_count": 18,
   "metadata": {},
   "outputs": [
    {
     "data": {
      "text/plain": [
       "Index(['Comunidades y Ciudades Autónomas', 'Nacionalidad', 'Periodo', 'Total'], dtype='object')"
      ]
     },
     "execution_count": 18,
     "metadata": {},
     "output_type": "execute_result"
    }
   ],
   "source": [
    "born.columns"
   ]
  },
  {
   "cell_type": "code",
   "execution_count": 19,
   "metadata": {},
   "outputs": [
    {
     "data": {
      "text/plain": [
       "0       2021\n",
       "1       2020\n",
       "2       2019\n",
       "3       2018\n",
       "4       2017\n",
       "        ... \n",
       "1195    2006\n",
       "1196    2005\n",
       "1197    2004\n",
       "1198    2003\n",
       "1199    2002\n",
       "Name: Periodo, Length: 1200, dtype: int64"
      ]
     },
     "execution_count": 19,
     "metadata": {},
     "output_type": "execute_result"
    }
   ],
   "source": [
    "born.Periodo"
   ]
  },
  {
   "cell_type": "code",
   "execution_count": 20,
   "metadata": {},
   "outputs": [],
   "source": [
    "extranjeros=pd.read_csv(\"ProporcionExtranjeros.csv\", sep=';')"
   ]
  },
  {
   "cell_type": "code",
   "execution_count": 21,
   "metadata": {},
   "outputs": [
    {
     "data": {
      "text/plain": [
       "Index(['Comunidades y Ciudades Autónomas', 'Sexo', 'Edad', 'Periodo', 'Total'], dtype='object')"
      ]
     },
     "execution_count": 21,
     "metadata": {},
     "output_type": "execute_result"
    }
   ],
   "source": [
    "extranjeros.columns"
   ]
  },
  {
   "cell_type": "code",
   "execution_count": 22,
   "metadata": {},
   "outputs": [
    {
     "data": {
      "text/plain": [
       "array([2022, 2021, 2020, 2019, 2018, 2017, 2016, 2015, 2014, 2013, 2012,\n",
       "       2011, 2010, 2009, 2008, 2007, 2006, 2005, 2004, 2003, 2002],\n",
       "      dtype=int64)"
      ]
     },
     "execution_count": 22,
     "metadata": {},
     "output_type": "execute_result"
    }
   ],
   "source": [
    "extranjeros.Periodo.unique()"
   ]
  },
  {
   "cell_type": "code",
   "execution_count": 23,
   "metadata": {},
   "outputs": [],
   "source": [
    "ex=pd.read_csv(\"Proporción de población nacida en el extranjero por comunidad autónoma, según sexo, edad y nacionalidad (desde 2002).csv\", sep=';')"
   ]
  },
  {
   "cell_type": "code",
   "execution_count": 24,
   "metadata": {},
   "outputs": [
    {
     "data": {
      "text/plain": [
       "Index(['Comunidades y Ciudades Autónomas', 'Sexo', 'Edad', 'Nacionalidad',\n",
       "       'Periodo', 'Total'],\n",
       "      dtype='object')"
      ]
     },
     "execution_count": 24,
     "metadata": {},
     "output_type": "execute_result"
    }
   ],
   "source": [
    "ex.columns"
   ]
  },
  {
   "cell_type": "code",
   "execution_count": 25,
   "metadata": {},
   "outputs": [
    {
     "data": {
      "text/plain": [
       "array(['Ambas nacionalidades', 'Española', 'Extranjera'], dtype=object)"
      ]
     },
     "execution_count": 25,
     "metadata": {},
     "output_type": "execute_result"
    }
   ],
   "source": [
    "ex.Nacionalidad.unique()"
   ]
  },
  {
   "cell_type": "code",
   "execution_count": 26,
   "metadata": {},
   "outputs": [],
   "source": [
    "man=pd.read_csv(\"RatioMasculinidad.csv\", sep=';')"
   ]
  },
  {
   "cell_type": "code",
   "execution_count": 27,
   "metadata": {},
   "outputs": [
    {
     "data": {
      "text/plain": [
       "Index(['Comunidades y Ciudades Autónomas', 'Periodo', 'Total'], dtype='object')"
      ]
     },
     "execution_count": 27,
     "metadata": {},
     "output_type": "execute_result"
    }
   ],
   "source": [
    "man.columns"
   ]
  },
  {
   "cell_type": "code",
   "execution_count": 28,
   "metadata": {},
   "outputs": [
    {
     "data": {
      "text/plain": [
       "0      2022\n",
       "1      2021\n",
       "2      2020\n",
       "3      2019\n",
       "4      2018\n",
       "       ... \n",
       "955    1979\n",
       "956    1978\n",
       "957    1977\n",
       "958    1976\n",
       "959    1975\n",
       "Name: Periodo, Length: 960, dtype: int64"
      ]
     },
     "execution_count": 28,
     "metadata": {},
     "output_type": "execute_result"
    }
   ],
   "source": [
    "man.Periodo"
   ]
  },
  {
   "cell_type": "code",
   "execution_count": 29,
   "metadata": {},
   "outputs": [],
   "source": [
    "bornmonth=pd.read_csv(\"Movimiento Natural de la Población Nacimientos.csv\", sep=';')"
   ]
  },
  {
   "cell_type": "code",
   "execution_count": 30,
   "metadata": {},
   "outputs": [
    {
     "data": {
      "text/plain": [
       "Index(['Comunidades y Ciudades Autónomas', 'Periodo', 'Total'], dtype='object')"
      ]
     },
     "execution_count": 30,
     "metadata": {},
     "output_type": "execute_result"
    }
   ],
   "source": [
    "bornmonth.columns"
   ]
  },
  {
   "cell_type": "code",
   "execution_count": 31,
   "metadata": {},
   "outputs": [
    {
     "data": {
      "text/plain": [
       "Total                             564\n",
       "11 Extremadura                    564\n",
       "19 Melilla                        564\n",
       "18 Ceuta                          564\n",
       "17 Rioja, La                      564\n",
       "16 País Vasco                     564\n",
       "15 Navarra, Comunidad Foral de    564\n",
       "14 Murcia, Región de              564\n",
       "13 Madrid, Comunidad de           564\n",
       "12 Galicia                        564\n",
       "10 Comunitat Valenciana           564\n",
       "01 Andalucía                      564\n",
       "09 Cataluña                       564\n",
       "08 Castilla - La Mancha           564\n",
       "07 Castilla y León                564\n",
       "06 Cantabria                      564\n",
       "05 Canarias                       564\n",
       "04 Balears, Illes                 564\n",
       "03 Asturias, Principado de        564\n",
       "02 Aragón                         564\n",
       "No residente                      564\n",
       "Name: Comunidades y Ciudades Autónomas, dtype: int64"
      ]
     },
     "execution_count": 31,
     "metadata": {},
     "output_type": "execute_result"
    }
   ],
   "source": [
    "bornmonth['Comunidades y Ciudades Autónomas'].value_counts()"
   ]
  },
  {
   "cell_type": "code",
   "execution_count": 32,
   "metadata": {},
   "outputs": [
    {
     "data": {
      "text/plain": [
       "0        2021M12\n",
       "1        2021M11\n",
       "2        2021M10\n",
       "3        2021M09\n",
       "4        2021M08\n",
       "          ...   \n",
       "11839    1975M05\n",
       "11840    1975M04\n",
       "11841    1975M03\n",
       "11842    1975M02\n",
       "11843    1975M01\n",
       "Name: Periodo, Length: 11844, dtype: object"
      ]
     },
     "execution_count": 32,
     "metadata": {},
     "output_type": "execute_result"
    }
   ],
   "source": [
    "bornmonth.Periodo"
   ]
  },
  {
   "cell_type": "code",
   "execution_count": 37,
   "metadata": {},
   "outputs": [
    {
     "data": {
      "text/plain": [
       "0        28.574\n",
       "1        28.452\n",
       "2        30.135\n",
       "3        30.229\n",
       "4        29.640\n",
       "          ...  \n",
       "11839    72.000\n",
       "11840    60.000\n",
       "11841    55.000\n",
       "11842    55.000\n",
       "11843    77.000\n",
       "Name: Total, Length: 11844, dtype: float64"
      ]
     },
     "execution_count": 37,
     "metadata": {},
     "output_type": "execute_result"
    }
   ],
   "source": [
    "bornmonth.Total"
   ]
  },
  {
   "cell_type": "code",
   "execution_count": 33,
   "metadata": {},
   "outputs": [],
   "source": [
    "cases=pd.read_csv(\"ccaa_covid19_casos_long.csv\")"
   ]
  },
  {
   "cell_type": "code",
   "execution_count": 34,
   "metadata": {},
   "outputs": [
    {
     "data": {
      "text/plain": [
       "Index(['fecha', 'cod_ine', 'CCAA', 'total'], dtype='object')"
      ]
     },
     "execution_count": 34,
     "metadata": {},
     "output_type": "execute_result"
    }
   ],
   "source": [
    "cases.columns"
   ]
  },
  {
   "cell_type": "code",
   "execution_count": 35,
   "metadata": {},
   "outputs": [
    {
     "data": {
      "text/plain": [
       "array(['Andalucía', 'Aragón', 'Asturias', 'Baleares', 'Canarias',\n",
       "       'Cantabria', 'Castilla La Mancha', 'Castilla y León', 'Cataluña',\n",
       "       'Ceuta', 'C. Valenciana', 'Extremadura', 'Galicia', 'Madrid',\n",
       "       'Melilla', 'Murcia', 'Navarra', 'País Vasco', 'La Rioja'],\n",
       "      dtype=object)"
      ]
     },
     "execution_count": 35,
     "metadata": {},
     "output_type": "execute_result"
    }
   ],
   "source": [
    "cases.CCAA.unique()"
   ]
  },
  {
   "cell_type": "code",
   "execution_count": 36,
   "metadata": {},
   "outputs": [],
   "source": [
    "deaths=pd.read_csv(\"ccaa_covid19_fallecidos_long.csv\")"
   ]
  },
  {
   "cell_type": "code",
   "execution_count": 80,
   "metadata": {},
   "outputs": [
    {
     "data": {
      "text/plain": [
       "Index(['fecha', 'cod_ine', 'CCAA', 'total'], dtype='object')"
      ]
     },
     "execution_count": 80,
     "metadata": {},
     "output_type": "execute_result"
    }
   ],
   "source": [
    "deaths.columns"
   ]
  },
  {
   "cell_type": "code",
   "execution_count": 81,
   "metadata": {},
   "outputs": [
    {
     "data": {
      "text/plain": [
       "0      2022\n",
       "1      2021\n",
       "2      2020\n",
       "3      2019\n",
       "4      2018\n",
       "       ... \n",
       "955    1979\n",
       "956    1978\n",
       "957    1977\n",
       "958    1976\n",
       "959    1975\n",
       "Name: Periodo, Length: 960, dtype: int64"
      ]
     },
     "execution_count": 81,
     "metadata": {},
     "output_type": "execute_result"
    }
   ],
   "source": [
    "man.Periodo"
   ]
  },
  {
   "cell_type": "code",
   "execution_count": null,
   "metadata": {},
   "outputs": [],
   "source": []
  }
 ],
 "metadata": {
  "kernelspec": {
   "display_name": "ironhack",
   "language": "python",
   "name": "python3"
  },
  "language_info": {
   "codemirror_mode": {
    "name": "ipython",
    "version": 3
   },
   "file_extension": ".py",
   "mimetype": "text/x-python",
   "name": "python",
   "nbconvert_exporter": "python",
   "pygments_lexer": "ipython3",
   "version": "3.10.4"
  },
  "orig_nbformat": 4,
  "vscode": {
   "interpreter": {
    "hash": "827cb459ef7dfa823b7fba71272161b29eeaf9e5af81f5ec193dda0aa6af3e3d"
   }
  }
 },
 "nbformat": 4,
 "nbformat_minor": 2
}
